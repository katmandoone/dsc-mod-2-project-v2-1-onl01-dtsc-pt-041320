{
 "cells": [
  {
   "cell_type": "markdown",
   "metadata": {},
   "source": [
    "## Final Project Submission\n",
    "\n",
    "Please fill out:\n",
    "* Student name: Carl Cook\n",
    "* Student pace: Part-time\n",
    "* Scheduled project review date/time: \n",
    "* Instructor name: James Irving\n",
    "* Blog post URL:\n"
   ]
  },
  {
   "cell_type": "markdown",
   "metadata": {},
   "source": [
    "# Introduction\n",
    "\n",
    "In this notebook, we're using the King County Housing Database to create a model for the price of homes using multiple linear regression. We'll be using the OSEMN workflow process to take us through step-by-step."
   ]
  },
  {
   "cell_type": "markdown",
   "metadata": {},
   "source": [
    "# Obtain"
   ]
  },
  {
   "cell_type": "code",
   "execution_count": 1,
   "metadata": {},
   "outputs": [],
   "source": [
    "# import libraries\n",
    "import pandas as pd\n",
    "import numpy as np\n",
    "import seaborn as sns\n",
    "from scipy import stats\n",
    "import matplotlib.pyplot as plt\n",
    "%matplotlib inline\n",
    "plt.style.use('seaborn')"
   ]
  },
  {
   "cell_type": "code",
   "execution_count": 2,
   "metadata": {},
   "outputs": [
    {
     "data": {
      "text/html": [
       "<div>\n",
       "<style scoped>\n",
       "    .dataframe tbody tr th:only-of-type {\n",
       "        vertical-align: middle;\n",
       "    }\n",
       "\n",
       "    .dataframe tbody tr th {\n",
       "        vertical-align: top;\n",
       "    }\n",
       "\n",
       "    .dataframe thead th {\n",
       "        text-align: right;\n",
       "    }\n",
       "</style>\n",
       "<table border=\"1\" class=\"dataframe\">\n",
       "  <thead>\n",
       "    <tr style=\"text-align: right;\">\n",
       "      <th></th>\n",
       "      <th>id</th>\n",
       "      <th>date</th>\n",
       "      <th>price</th>\n",
       "      <th>bedrooms</th>\n",
       "      <th>bathrooms</th>\n",
       "      <th>sqft_living</th>\n",
       "      <th>sqft_lot</th>\n",
       "      <th>floors</th>\n",
       "      <th>waterfront</th>\n",
       "      <th>view</th>\n",
       "      <th>...</th>\n",
       "      <th>grade</th>\n",
       "      <th>sqft_above</th>\n",
       "      <th>sqft_basement</th>\n",
       "      <th>yr_built</th>\n",
       "      <th>yr_renovated</th>\n",
       "      <th>zipcode</th>\n",
       "      <th>lat</th>\n",
       "      <th>long</th>\n",
       "      <th>sqft_living15</th>\n",
       "      <th>sqft_lot15</th>\n",
       "    </tr>\n",
       "  </thead>\n",
       "  <tbody>\n",
       "    <tr>\n",
       "      <td>0</td>\n",
       "      <td>7129300520</td>\n",
       "      <td>10/13/2014</td>\n",
       "      <td>221900.0</td>\n",
       "      <td>3</td>\n",
       "      <td>1.00</td>\n",
       "      <td>1180</td>\n",
       "      <td>5650</td>\n",
       "      <td>1.0</td>\n",
       "      <td>NaN</td>\n",
       "      <td>0.0</td>\n",
       "      <td>...</td>\n",
       "      <td>7</td>\n",
       "      <td>1180</td>\n",
       "      <td>0.0</td>\n",
       "      <td>1955</td>\n",
       "      <td>0.0</td>\n",
       "      <td>98178</td>\n",
       "      <td>47.5112</td>\n",
       "      <td>-122.257</td>\n",
       "      <td>1340</td>\n",
       "      <td>5650</td>\n",
       "    </tr>\n",
       "    <tr>\n",
       "      <td>1</td>\n",
       "      <td>6414100192</td>\n",
       "      <td>12/9/2014</td>\n",
       "      <td>538000.0</td>\n",
       "      <td>3</td>\n",
       "      <td>2.25</td>\n",
       "      <td>2570</td>\n",
       "      <td>7242</td>\n",
       "      <td>2.0</td>\n",
       "      <td>0.0</td>\n",
       "      <td>0.0</td>\n",
       "      <td>...</td>\n",
       "      <td>7</td>\n",
       "      <td>2170</td>\n",
       "      <td>400.0</td>\n",
       "      <td>1951</td>\n",
       "      <td>1991.0</td>\n",
       "      <td>98125</td>\n",
       "      <td>47.7210</td>\n",
       "      <td>-122.319</td>\n",
       "      <td>1690</td>\n",
       "      <td>7639</td>\n",
       "    </tr>\n",
       "    <tr>\n",
       "      <td>2</td>\n",
       "      <td>5631500400</td>\n",
       "      <td>2/25/2015</td>\n",
       "      <td>180000.0</td>\n",
       "      <td>2</td>\n",
       "      <td>1.00</td>\n",
       "      <td>770</td>\n",
       "      <td>10000</td>\n",
       "      <td>1.0</td>\n",
       "      <td>0.0</td>\n",
       "      <td>0.0</td>\n",
       "      <td>...</td>\n",
       "      <td>6</td>\n",
       "      <td>770</td>\n",
       "      <td>0.0</td>\n",
       "      <td>1933</td>\n",
       "      <td>NaN</td>\n",
       "      <td>98028</td>\n",
       "      <td>47.7379</td>\n",
       "      <td>-122.233</td>\n",
       "      <td>2720</td>\n",
       "      <td>8062</td>\n",
       "    </tr>\n",
       "    <tr>\n",
       "      <td>3</td>\n",
       "      <td>2487200875</td>\n",
       "      <td>12/9/2014</td>\n",
       "      <td>604000.0</td>\n",
       "      <td>4</td>\n",
       "      <td>3.00</td>\n",
       "      <td>1960</td>\n",
       "      <td>5000</td>\n",
       "      <td>1.0</td>\n",
       "      <td>0.0</td>\n",
       "      <td>0.0</td>\n",
       "      <td>...</td>\n",
       "      <td>7</td>\n",
       "      <td>1050</td>\n",
       "      <td>910.0</td>\n",
       "      <td>1965</td>\n",
       "      <td>0.0</td>\n",
       "      <td>98136</td>\n",
       "      <td>47.5208</td>\n",
       "      <td>-122.393</td>\n",
       "      <td>1360</td>\n",
       "      <td>5000</td>\n",
       "    </tr>\n",
       "    <tr>\n",
       "      <td>4</td>\n",
       "      <td>1954400510</td>\n",
       "      <td>2/18/2015</td>\n",
       "      <td>510000.0</td>\n",
       "      <td>3</td>\n",
       "      <td>2.00</td>\n",
       "      <td>1680</td>\n",
       "      <td>8080</td>\n",
       "      <td>1.0</td>\n",
       "      <td>0.0</td>\n",
       "      <td>0.0</td>\n",
       "      <td>...</td>\n",
       "      <td>8</td>\n",
       "      <td>1680</td>\n",
       "      <td>0.0</td>\n",
       "      <td>1987</td>\n",
       "      <td>0.0</td>\n",
       "      <td>98074</td>\n",
       "      <td>47.6168</td>\n",
       "      <td>-122.045</td>\n",
       "      <td>1800</td>\n",
       "      <td>7503</td>\n",
       "    </tr>\n",
       "  </tbody>\n",
       "</table>\n",
       "<p>5 rows × 21 columns</p>\n",
       "</div>"
      ],
      "text/plain": [
       "           id        date     price  bedrooms  bathrooms  sqft_living  \\\n",
       "0  7129300520  10/13/2014  221900.0         3       1.00         1180   \n",
       "1  6414100192   12/9/2014  538000.0         3       2.25         2570   \n",
       "2  5631500400   2/25/2015  180000.0         2       1.00          770   \n",
       "3  2487200875   12/9/2014  604000.0         4       3.00         1960   \n",
       "4  1954400510   2/18/2015  510000.0         3       2.00         1680   \n",
       "\n",
       "   sqft_lot  floors  waterfront  view  ...  grade  sqft_above  sqft_basement  \\\n",
       "0      5650     1.0         NaN   0.0  ...      7        1180            0.0   \n",
       "1      7242     2.0         0.0   0.0  ...      7        2170          400.0   \n",
       "2     10000     1.0         0.0   0.0  ...      6         770            0.0   \n",
       "3      5000     1.0         0.0   0.0  ...      7        1050          910.0   \n",
       "4      8080     1.0         0.0   0.0  ...      8        1680            0.0   \n",
       "\n",
       "  yr_built  yr_renovated  zipcode      lat     long  sqft_living15  sqft_lot15  \n",
       "0     1955           0.0    98178  47.5112 -122.257           1340        5650  \n",
       "1     1951        1991.0    98125  47.7210 -122.319           1690        7639  \n",
       "2     1933           NaN    98028  47.7379 -122.233           2720        8062  \n",
       "3     1965           0.0    98136  47.5208 -122.393           1360        5000  \n",
       "4     1987           0.0    98074  47.6168 -122.045           1800        7503  \n",
       "\n",
       "[5 rows x 21 columns]"
      ]
     },
     "execution_count": 2,
     "metadata": {},
     "output_type": "execute_result"
    }
   ],
   "source": [
    "# get the data\n",
    "df = pd.read_csv('kc_house_data.csv')\n",
    "df.head()"
   ]
  },
  {
   "cell_type": "markdown",
   "metadata": {},
   "source": [
    "# Scrub"
   ]
  },
  {
   "cell_type": "code",
   "execution_count": null,
   "metadata": {},
   "outputs": [],
   "source": []
  },
  {
   "cell_type": "markdown",
   "metadata": {},
   "source": [
    "## Check data types"
   ]
  },
  {
   "cell_type": "code",
   "execution_count": 3,
   "metadata": {},
   "outputs": [
    {
     "name": "stdout",
     "output_type": "stream",
     "text": [
      "<class 'pandas.core.frame.DataFrame'>\n",
      "RangeIndex: 21597 entries, 0 to 21596\n",
      "Data columns (total 21 columns):\n",
      "id               21597 non-null int64\n",
      "date             21597 non-null object\n",
      "price            21597 non-null float64\n",
      "bedrooms         21597 non-null int64\n",
      "bathrooms        21597 non-null float64\n",
      "sqft_living      21597 non-null int64\n",
      "sqft_lot         21597 non-null int64\n",
      "floors           21597 non-null float64\n",
      "waterfront       19221 non-null float64\n",
      "view             21534 non-null float64\n",
      "condition        21597 non-null int64\n",
      "grade            21597 non-null int64\n",
      "sqft_above       21597 non-null int64\n",
      "sqft_basement    21597 non-null object\n",
      "yr_built         21597 non-null int64\n",
      "yr_renovated     17755 non-null float64\n",
      "zipcode          21597 non-null int64\n",
      "lat              21597 non-null float64\n",
      "long             21597 non-null float64\n",
      "sqft_living15    21597 non-null int64\n",
      "sqft_lot15       21597 non-null int64\n",
      "dtypes: float64(8), int64(11), object(2)\n",
      "memory usage: 3.5+ MB\n"
     ]
    }
   ],
   "source": [
    "df.info()"
   ]
  },
  {
   "cell_type": "markdown",
   "metadata": {},
   "source": [
    "* 'id' is just an identifier and should have no bearing on the model.\n",
    "* 'date' and 'sqft_basement' are strings\n",
    "* Everything else is numeric.\n",
    "* We can probably remove 'sqft_above' and make 'sqft_basement' binary.\n",
    "* 'waterfront' is binary\n"
   ]
  },
  {
   "cell_type": "code",
   "execution_count": 4,
   "metadata": {},
   "outputs": [
    {
     "name": "stdout",
     "output_type": "stream",
     "text": [
      "id: 21420 unique <class 'numpy.int64'>\n",
      "date: 372 unique <class 'str'>\n",
      "price: 3622 unique <class 'numpy.float64'>\n",
      "bedrooms: 12 unique <class 'numpy.int64'>\n",
      "bathrooms: 29 unique <class 'numpy.float64'>\n",
      "sqft_living: 1034 unique <class 'numpy.int64'>\n",
      "sqft_lot: 9776 unique <class 'numpy.int64'>\n",
      "floors: 6 unique <class 'numpy.float64'>\n",
      "waterfront: 2 unique <class 'numpy.float64'>\n",
      "view: 5 unique <class 'numpy.float64'>\n",
      "condition: 5 unique <class 'numpy.int64'>\n",
      "grade: 11 unique <class 'numpy.int64'>\n",
      "sqft_above: 942 unique <class 'numpy.int64'>\n",
      "sqft_basement: 304 unique <class 'str'>\n",
      "yr_built: 116 unique <class 'numpy.int64'>\n",
      "yr_renovated: 70 unique <class 'numpy.float64'>\n",
      "zipcode: 70 unique <class 'numpy.int64'>\n",
      "lat: 5033 unique <class 'numpy.float64'>\n",
      "long: 751 unique <class 'numpy.float64'>\n",
      "sqft_living15: 777 unique <class 'numpy.int64'>\n",
      "sqft_lot15: 8682 unique <class 'numpy.int64'>\n"
     ]
    }
   ],
   "source": [
    "df_scrub = df.copy()\n",
    "columns = df_scrub.columns\n",
    "for col in columns:\n",
    "    print(f'{col}: {df[col].nunique()} unique {type(df[col][0])}')"
   ]
  },
  {
   "cell_type": "markdown",
   "metadata": {},
   "source": [
    "## Dealing with null values"
   ]
  },
  {
   "cell_type": "code",
   "execution_count": 5,
   "metadata": {},
   "outputs": [
    {
     "name": "stdout",
     "output_type": "stream",
     "text": [
      "waterfront: 2376 null values\n"
     ]
    },
    {
     "data": {
      "image/png": "[encoded data removed]",
      "text/plain": [
       "<Figure size 144x144 with 1 Axes>"
      ]
     },
     "metadata": {
      "needs_background": "light"
     },
     "output_type": "display_data"
    },
    {
     "name": "stdout",
     "output_type": "stream",
     "text": [
      "view: 63 null values\n"
     ]
    },
    {
     "data": {
      "image/png": "[encoded data removed]",
      "text/plain": [
       "<Figure size 144x144 with 1 Axes>"
      ]
     },
     "metadata": {
      "needs_background": "light"
     },
     "output_type": "display_data"
    },
    {
     "name": "stdout",
     "output_type": "stream",
     "text": [
      "yr_renovated: 3842 null values\n"
     ]
    },
    {
     "data": {
      "image/png": "[encoded data removed]",
      "text/plain": [
       "<Figure size 144x144 with 1 Axes>"
      ]
     },
     "metadata": {
      "needs_background": "light"
     },
     "output_type": "display_data"
    }
   ],
   "source": [
    "for col in columns:\n",
    "    if df[col].isna().sum() > 0:\n",
    "        print(f'{col}: {df[col].isna().sum()} null values')\n",
    "        fig, ax = plt.subplots(figsize=(2,2))\n",
    "        ax.hist(df.dropna()[col])\n",
    "        plt.show()"
   ]
  },
  {
   "cell_type": "markdown",
   "metadata": {},
   "source": [
    "Since these columns are all very heavy on zeroes, we'll just replace the null values with zero."
   ]
  },
  {
   "cell_type": "code",
   "execution_count": 6,
   "metadata": {},
   "outputs": [],
   "source": [
    "df_scrub = df_scrub.fillna(0)"
   ]
  },
  {
   "cell_type": "markdown",
   "metadata": {},
   "source": [
    "Let's make a categorical column for basement"
   ]
  },
  {
   "cell_type": "code",
   "execution_count": 7,
   "metadata": {},
   "outputs": [],
   "source": [
    "df_scrub['sqft_basement'] = df_scrub['sqft_living'] - df_scrub['sqft_above']\n",
    "df_scrub['basement'] = [1 if x > 0 else 0 for x in df_scrub['sqft_basement']]\n",
    "df_scrub = df_scrub.drop(columns='sqft_basement')"
   ]
  },
  {
   "cell_type": "markdown",
   "metadata": {},
   "source": [
    "Let's do the same with renovation."
   ]
  },
  {
   "cell_type": "code",
   "execution_count": 8,
   "metadata": {},
   "outputs": [],
   "source": [
    "df_scrub['renovated'] = [1 if x > 0 else 0 for x in df_scrub['yr_renovated']]\n",
    "df_scrub = df_scrub.drop(columns='yr_renovated')"
   ]
  },
  {
   "cell_type": "markdown",
   "metadata": {},
   "source": [
    "## Categoricals"
   ]
  },
  {
   "cell_type": "code",
   "execution_count": 9,
   "metadata": {},
   "outputs": [
    {
     "data": {
      "text/html": [
       "<div>\n",
       "<style scoped>\n",
       "    .dataframe tbody tr th:only-of-type {\n",
       "        vertical-align: middle;\n",
       "    }\n",
       "\n",
       "    .dataframe tbody tr th {\n",
       "        vertical-align: top;\n",
       "    }\n",
       "\n",
       "    .dataframe thead th {\n",
       "        text-align: right;\n",
       "    }\n",
       "</style>\n",
       "<table border=\"1\" class=\"dataframe\">\n",
       "  <thead>\n",
       "    <tr style=\"text-align: right;\">\n",
       "      <th></th>\n",
       "      <th>id</th>\n",
       "      <th>date</th>\n",
       "      <th>price</th>\n",
       "      <th>bedrooms</th>\n",
       "      <th>bathrooms</th>\n",
       "      <th>sqft_living</th>\n",
       "      <th>sqft_lot</th>\n",
       "      <th>floors</th>\n",
       "      <th>waterfront</th>\n",
       "      <th>view</th>\n",
       "      <th>...</th>\n",
       "      <th>grade</th>\n",
       "      <th>sqft_above</th>\n",
       "      <th>yr_built</th>\n",
       "      <th>zipcode</th>\n",
       "      <th>lat</th>\n",
       "      <th>long</th>\n",
       "      <th>sqft_living15</th>\n",
       "      <th>sqft_lot15</th>\n",
       "      <th>basement</th>\n",
       "      <th>renovated</th>\n",
       "    </tr>\n",
       "  </thead>\n",
       "  <tbody>\n",
       "    <tr>\n",
       "      <td>0</td>\n",
       "      <td>7129300520</td>\n",
       "      <td>10/13/2014</td>\n",
       "      <td>221900.0</td>\n",
       "      <td>3</td>\n",
       "      <td>1.00</td>\n",
       "      <td>1180</td>\n",
       "      <td>5650</td>\n",
       "      <td>1.0</td>\n",
       "      <td>0.0</td>\n",
       "      <td>0.0</td>\n",
       "      <td>...</td>\n",
       "      <td>7</td>\n",
       "      <td>1180</td>\n",
       "      <td>1955</td>\n",
       "      <td>98178</td>\n",
       "      <td>47.5112</td>\n",
       "      <td>-122.257</td>\n",
       "      <td>1340</td>\n",
       "      <td>5650</td>\n",
       "      <td>0</td>\n",
       "      <td>0</td>\n",
       "    </tr>\n",
       "    <tr>\n",
       "      <td>1</td>\n",
       "      <td>6414100192</td>\n",
       "      <td>12/9/2014</td>\n",
       "      <td>538000.0</td>\n",
       "      <td>3</td>\n",
       "      <td>2.25</td>\n",
       "      <td>2570</td>\n",
       "      <td>7242</td>\n",
       "      <td>2.0</td>\n",
       "      <td>0.0</td>\n",
       "      <td>0.0</td>\n",
       "      <td>...</td>\n",
       "      <td>7</td>\n",
       "      <td>2170</td>\n",
       "      <td>1951</td>\n",
       "      <td>98125</td>\n",
       "      <td>47.7210</td>\n",
       "      <td>-122.319</td>\n",
       "      <td>1690</td>\n",
       "      <td>7639</td>\n",
       "      <td>1</td>\n",
       "      <td>1</td>\n",
       "    </tr>\n",
       "    <tr>\n",
       "      <td>2</td>\n",
       "      <td>5631500400</td>\n",
       "      <td>2/25/2015</td>\n",
       "      <td>180000.0</td>\n",
       "      <td>2</td>\n",
       "      <td>1.00</td>\n",
       "      <td>770</td>\n",
       "      <td>10000</td>\n",
       "      <td>1.0</td>\n",
       "      <td>0.0</td>\n",
       "      <td>0.0</td>\n",
       "      <td>...</td>\n",
       "      <td>6</td>\n",
       "      <td>770</td>\n",
       "      <td>1933</td>\n",
       "      <td>98028</td>\n",
       "      <td>47.7379</td>\n",
       "      <td>-122.233</td>\n",
       "      <td>2720</td>\n",
       "      <td>8062</td>\n",
       "      <td>0</td>\n",
       "      <td>0</td>\n",
       "    </tr>\n",
       "    <tr>\n",
       "      <td>3</td>\n",
       "      <td>2487200875</td>\n",
       "      <td>12/9/2014</td>\n",
       "      <td>604000.0</td>\n",
       "      <td>4</td>\n",
       "      <td>3.00</td>\n",
       "      <td>1960</td>\n",
       "      <td>5000</td>\n",
       "      <td>1.0</td>\n",
       "      <td>0.0</td>\n",
       "      <td>0.0</td>\n",
       "      <td>...</td>\n",
       "      <td>7</td>\n",
       "      <td>1050</td>\n",
       "      <td>1965</td>\n",
       "      <td>98136</td>\n",
       "      <td>47.5208</td>\n",
       "      <td>-122.393</td>\n",
       "      <td>1360</td>\n",
       "      <td>5000</td>\n",
       "      <td>1</td>\n",
       "      <td>0</td>\n",
       "    </tr>\n",
       "    <tr>\n",
       "      <td>4</td>\n",
       "      <td>1954400510</td>\n",
       "      <td>2/18/2015</td>\n",
       "      <td>510000.0</td>\n",
       "      <td>3</td>\n",
       "      <td>2.00</td>\n",
       "      <td>1680</td>\n",
       "      <td>8080</td>\n",
       "      <td>1.0</td>\n",
       "      <td>0.0</td>\n",
       "      <td>0.0</td>\n",
       "      <td>...</td>\n",
       "      <td>8</td>\n",
       "      <td>1680</td>\n",
       "      <td>1987</td>\n",
       "      <td>98074</td>\n",
       "      <td>47.6168</td>\n",
       "      <td>-122.045</td>\n",
       "      <td>1800</td>\n",
       "      <td>7503</td>\n",
       "      <td>0</td>\n",
       "      <td>0</td>\n",
       "    </tr>\n",
       "  </tbody>\n",
       "</table>\n",
       "<p>5 rows × 21 columns</p>\n",
       "</div>"
      ],
      "text/plain": [
       "           id        date     price  bedrooms  bathrooms  sqft_living  \\\n",
       "0  7129300520  10/13/2014  221900.0         3       1.00         1180   \n",
       "1  6414100192   12/9/2014  538000.0         3       2.25         2570   \n",
       "2  5631500400   2/25/2015  180000.0         2       1.00          770   \n",
       "3  2487200875   12/9/2014  604000.0         4       3.00         1960   \n",
       "4  1954400510   2/18/2015  510000.0         3       2.00         1680   \n",
       "\n",
       "   sqft_lot  floors  waterfront  view  ...  grade  sqft_above  yr_built  \\\n",
       "0      5650     1.0         0.0   0.0  ...      7        1180      1955   \n",
       "1      7242     2.0         0.0   0.0  ...      7        2170      1951   \n",
       "2     10000     1.0         0.0   0.0  ...      6         770      1933   \n",
       "3      5000     1.0         0.0   0.0  ...      7        1050      1965   \n",
       "4      8080     1.0         0.0   0.0  ...      8        1680      1987   \n",
       "\n",
       "   zipcode      lat     long  sqft_living15  sqft_lot15  basement  renovated  \n",
       "0    98178  47.5112 -122.257           1340        5650         0          0  \n",
       "1    98125  47.7210 -122.319           1690        7639         1          1  \n",
       "2    98028  47.7379 -122.233           2720        8062         0          0  \n",
       "3    98136  47.5208 -122.393           1360        5000         1          0  \n",
       "4    98074  47.6168 -122.045           1800        7503         0          0  \n",
       "\n",
       "[5 rows x 21 columns]"
      ]
     },
     "execution_count": 9,
     "metadata": {},
     "output_type": "execute_result"
    }
   ],
   "source": [
    "df_scrub.head()"
   ]
  },
  {
   "cell_type": "markdown",
   "metadata": {},
   "source": [
    "### Date"
   ]
  },
  {
   "cell_type": "code",
   "execution_count": 10,
   "metadata": {},
   "outputs": [
    {
     "name": "stderr",
     "output_type": "stream",
     "text": [
      "C:\\Users\\katma\\anaconda3\\envs\\learn-env\\lib\\site-packages\\ipykernel_launcher.py:4: SettingWithCopyWarning: \n",
      "A value is trying to be set on a copy of a slice from a DataFrame\n",
      "\n",
      "See the caveats in the documentation: http://pandas.pydata.org/pandas-docs/stable/user_guide/indexing.html#returning-a-view-versus-a-copy\n",
      "  after removing the cwd from sys.path.\n"
     ]
    }
   ],
   "source": [
    "for i in range(len(df_scrub)):\n",
    "    date_temp = df_scrub.date[i].split('/')\n",
    "    del date_temp[1]\n",
    "    df_scrub.date[i] = '_'.join(date_temp)"
   ]
  },
  {
   "cell_type": "code",
   "execution_count": 11,
   "metadata": {},
   "outputs": [],
   "source": [
    "df_scrub = pd.concat([df_scrub, pd.get_dummies(df_scrub['date'], prefix='date', drop_first=True)],\n",
    "                    axis=1).drop(['date'], axis=1)"
   ]
  },
  {
   "cell_type": "code",
   "execution_count": 12,
   "metadata": {},
   "outputs": [
    {
     "data": {
      "text/html": [
       "<div>\n",
       "<style scoped>\n",
       "    .dataframe tbody tr th:only-of-type {\n",
       "        vertical-align: middle;\n",
       "    }\n",
       "\n",
       "    .dataframe tbody tr th {\n",
       "        vertical-align: top;\n",
       "    }\n",
       "\n",
       "    .dataframe thead th {\n",
       "        text-align: right;\n",
       "    }\n",
       "</style>\n",
       "<table border=\"1\" class=\"dataframe\">\n",
       "  <thead>\n",
       "    <tr style=\"text-align: right;\">\n",
       "      <th></th>\n",
       "      <th>id</th>\n",
       "      <th>price</th>\n",
       "      <th>bedrooms</th>\n",
       "      <th>bathrooms</th>\n",
       "      <th>sqft_living</th>\n",
       "      <th>sqft_lot</th>\n",
       "      <th>floors</th>\n",
       "      <th>waterfront</th>\n",
       "      <th>view</th>\n",
       "      <th>condition</th>\n",
       "      <th>...</th>\n",
       "      <th>date_1_2015</th>\n",
       "      <th>date_2_2015</th>\n",
       "      <th>date_3_2015</th>\n",
       "      <th>date_4_2015</th>\n",
       "      <th>date_5_2014</th>\n",
       "      <th>date_5_2015</th>\n",
       "      <th>date_6_2014</th>\n",
       "      <th>date_7_2014</th>\n",
       "      <th>date_8_2014</th>\n",
       "      <th>date_9_2014</th>\n",
       "    </tr>\n",
       "  </thead>\n",
       "  <tbody>\n",
       "    <tr>\n",
       "      <td>0</td>\n",
       "      <td>7129300520</td>\n",
       "      <td>221900.0</td>\n",
       "      <td>3</td>\n",
       "      <td>1.00</td>\n",
       "      <td>1180</td>\n",
       "      <td>5650</td>\n",
       "      <td>1.0</td>\n",
       "      <td>0.0</td>\n",
       "      <td>0.0</td>\n",
       "      <td>3</td>\n",
       "      <td>...</td>\n",
       "      <td>0</td>\n",
       "      <td>0</td>\n",
       "      <td>0</td>\n",
       "      <td>0</td>\n",
       "      <td>0</td>\n",
       "      <td>0</td>\n",
       "      <td>0</td>\n",
       "      <td>0</td>\n",
       "      <td>0</td>\n",
       "      <td>0</td>\n",
       "    </tr>\n",
       "    <tr>\n",
       "      <td>1</td>\n",
       "      <td>6414100192</td>\n",
       "      <td>538000.0</td>\n",
       "      <td>3</td>\n",
       "      <td>2.25</td>\n",
       "      <td>2570</td>\n",
       "      <td>7242</td>\n",
       "      <td>2.0</td>\n",
       "      <td>0.0</td>\n",
       "      <td>0.0</td>\n",
       "      <td>3</td>\n",
       "      <td>...</td>\n",
       "      <td>0</td>\n",
       "      <td>0</td>\n",
       "      <td>0</td>\n",
       "      <td>0</td>\n",
       "      <td>0</td>\n",
       "      <td>0</td>\n",
       "      <td>0</td>\n",
       "      <td>0</td>\n",
       "      <td>0</td>\n",
       "      <td>0</td>\n",
       "    </tr>\n",
       "    <tr>\n",
       "      <td>2</td>\n",
       "      <td>5631500400</td>\n",
       "      <td>180000.0</td>\n",
       "      <td>2</td>\n",
       "      <td>1.00</td>\n",
       "      <td>770</td>\n",
       "      <td>10000</td>\n",
       "      <td>1.0</td>\n",
       "      <td>0.0</td>\n",
       "      <td>0.0</td>\n",
       "      <td>3</td>\n",
       "      <td>...</td>\n",
       "      <td>0</td>\n",
       "      <td>1</td>\n",
       "      <td>0</td>\n",
       "      <td>0</td>\n",
       "      <td>0</td>\n",
       "      <td>0</td>\n",
       "      <td>0</td>\n",
       "      <td>0</td>\n",
       "      <td>0</td>\n",
       "      <td>0</td>\n",
       "    </tr>\n",
       "    <tr>\n",
       "      <td>3</td>\n",
       "      <td>2487200875</td>\n",
       "      <td>604000.0</td>\n",
       "      <td>4</td>\n",
       "      <td>3.00</td>\n",
       "      <td>1960</td>\n",
       "      <td>5000</td>\n",
       "      <td>1.0</td>\n",
       "      <td>0.0</td>\n",
       "      <td>0.0</td>\n",
       "      <td>5</td>\n",
       "      <td>...</td>\n",
       "      <td>0</td>\n",
       "      <td>0</td>\n",
       "      <td>0</td>\n",
       "      <td>0</td>\n",
       "      <td>0</td>\n",
       "      <td>0</td>\n",
       "      <td>0</td>\n",
       "      <td>0</td>\n",
       "      <td>0</td>\n",
       "      <td>0</td>\n",
       "    </tr>\n",
       "    <tr>\n",
       "      <td>4</td>\n",
       "      <td>1954400510</td>\n",
       "      <td>510000.0</td>\n",
       "      <td>3</td>\n",
       "      <td>2.00</td>\n",
       "      <td>1680</td>\n",
       "      <td>8080</td>\n",
       "      <td>1.0</td>\n",
       "      <td>0.0</td>\n",
       "      <td>0.0</td>\n",
       "      <td>3</td>\n",
       "      <td>...</td>\n",
       "      <td>0</td>\n",
       "      <td>1</td>\n",
       "      <td>0</td>\n",
       "      <td>0</td>\n",
       "      <td>0</td>\n",
       "      <td>0</td>\n",
       "      <td>0</td>\n",
       "      <td>0</td>\n",
       "      <td>0</td>\n",
       "      <td>0</td>\n",
       "    </tr>\n",
       "  </tbody>\n",
       "</table>\n",
       "<p>5 rows × 32 columns</p>\n",
       "</div>"
      ],
      "text/plain": [
       "           id     price  bedrooms  bathrooms  sqft_living  sqft_lot  floors  \\\n",
       "0  7129300520  221900.0         3       1.00         1180      5650     1.0   \n",
       "1  6414100192  538000.0         3       2.25         2570      7242     2.0   \n",
       "2  5631500400  180000.0         2       1.00          770     10000     1.0   \n",
       "3  2487200875  604000.0         4       3.00         1960      5000     1.0   \n",
       "4  1954400510  510000.0         3       2.00         1680      8080     1.0   \n",
       "\n",
       "   waterfront  view  condition  ...  date_1_2015  date_2_2015  date_3_2015  \\\n",
       "0         0.0   0.0          3  ...            0            0            0   \n",
       "1         0.0   0.0          3  ...            0            0            0   \n",
       "2         0.0   0.0          3  ...            0            1            0   \n",
       "3         0.0   0.0          5  ...            0            0            0   \n",
       "4         0.0   0.0          3  ...            0            1            0   \n",
       "\n",
       "   date_4_2015  date_5_2014  date_5_2015  date_6_2014  date_7_2014  \\\n",
       "0            0            0            0            0            0   \n",
       "1            0            0            0            0            0   \n",
       "2            0            0            0            0            0   \n",
       "3            0            0            0            0            0   \n",
       "4            0            0            0            0            0   \n",
       "\n",
       "   date_8_2014  date_9_2014  \n",
       "0            0            0  \n",
       "1            0            0  \n",
       "2            0            0  \n",
       "3            0            0  \n",
       "4            0            0  \n",
       "\n",
       "[5 rows x 32 columns]"
      ]
     },
     "execution_count": 12,
     "metadata": {},
     "output_type": "execute_result"
    }
   ],
   "source": [
    "df_scrub.head()"
   ]
  },
  {
   "cell_type": "markdown",
   "metadata": {},
   "source": [
    "### Zipcode"
   ]
  },
  {
   "cell_type": "code",
   "execution_count": 13,
   "metadata": {},
   "outputs": [],
   "source": [
    "# Thanks to Chris for this lovely dictionary!\n",
    "\n",
    "subregion_dict = {'south_urban': [98001, 98002, 98003, 98023, 98030, 98031, 98032, 98042, \n",
    "                                 98055, 98056, 98058, 98092, 98148, 98166, 98168, 98178, 98188,\n",
    "                                 98198], \n",
    "                 'east_urban' : [98004, 98005, 98006, 98007, 98008, 98009, 98027, 98029, \n",
    "                                 98033, 98034, 98039, 98040, 98052, 98053, 98059, 98074, \n",
    "                                98075, 98077],\n",
    "                 'south_rural' : [98010, 98022, 98038],\n",
    "                 'north' : [98011, 98028, 98072, 98155],\n",
    "                 'east_rural' : [98014, 98019, 98024, 98045, 98065],\n",
    "                 'vashon_island' : [98070], \n",
    "                 'seattle' : [98102, 98103, 98105, 98106, 98107, 98108, 98109, 98112, 98115,\n",
    "                             98116, 98117, 98118, 98119, 98122, 98125, 98126, 98136, 98144, 98199], \n",
    "                 'north_and_seattle' : [98133, 98177], \n",
    "                 'south_and_seattle' : [98146]}"
   ]
  },
  {
   "cell_type": "code",
   "execution_count": 14,
   "metadata": {},
   "outputs": [],
   "source": [
    "regions = []\n",
    "for i in range(len(df_scrub)):\n",
    "    zip_val = df_scrub.zipcode[i]\n",
    "    for key, val in subregion_dict.items():\n",
    "        if zip_val in val:\n",
    "            regions.append(key)\n",
    "df_scrub['region'] = regions"
   ]
  },
  {
   "cell_type": "code",
   "execution_count": 15,
   "metadata": {},
   "outputs": [],
   "source": [
    "df_scrub = pd.concat([df_scrub, pd.get_dummies(df_scrub['region'], prefix='region', drop_first=True)],\n",
    "                     axis=1).drop(['zipcode', 'region'], axis=1)"
   ]
  },
  {
   "cell_type": "code",
   "execution_count": 16,
   "metadata": {},
   "outputs": [],
   "source": [
    "df_scrub['waterfront'] = df_scrub['waterfront'].astype('int')\n",
    "df_scrub['view'] = df_scrub['view'].astype('int')"
   ]
  },
  {
   "cell_type": "code",
   "execution_count": 17,
   "metadata": {},
   "outputs": [
    {
     "data": {
      "text/html": [
       "<div>\n",
       "<style scoped>\n",
       "    .dataframe tbody tr th:only-of-type {\n",
       "        vertical-align: middle;\n",
       "    }\n",
       "\n",
       "    .dataframe tbody tr th {\n",
       "        vertical-align: top;\n",
       "    }\n",
       "\n",
       "    .dataframe thead th {\n",
       "        text-align: right;\n",
       "    }\n",
       "</style>\n",
       "<table border=\"1\" class=\"dataframe\">\n",
       "  <thead>\n",
       "    <tr style=\"text-align: right;\">\n",
       "      <th></th>\n",
       "      <th>id</th>\n",
       "      <th>price</th>\n",
       "      <th>bedrooms</th>\n",
       "      <th>bathrooms</th>\n",
       "      <th>sqft_living</th>\n",
       "      <th>sqft_lot</th>\n",
       "      <th>floors</th>\n",
       "      <th>waterfront</th>\n",
       "      <th>view</th>\n",
       "      <th>condition</th>\n",
       "      <th>...</th>\n",
       "      <th>date_8_2014</th>\n",
       "      <th>date_9_2014</th>\n",
       "      <th>region_east_urban</th>\n",
       "      <th>region_north</th>\n",
       "      <th>region_north_and_seattle</th>\n",
       "      <th>region_seattle</th>\n",
       "      <th>region_south_and_seattle</th>\n",
       "      <th>region_south_rural</th>\n",
       "      <th>region_south_urban</th>\n",
       "      <th>region_vashon_island</th>\n",
       "    </tr>\n",
       "  </thead>\n",
       "  <tbody>\n",
       "    <tr>\n",
       "      <td>0</td>\n",
       "      <td>7129300520</td>\n",
       "      <td>221900.0</td>\n",
       "      <td>3</td>\n",
       "      <td>1.00</td>\n",
       "      <td>1180</td>\n",
       "      <td>5650</td>\n",
       "      <td>1.0</td>\n",
       "      <td>0</td>\n",
       "      <td>0</td>\n",
       "      <td>3</td>\n",
       "      <td>...</td>\n",
       "      <td>0</td>\n",
       "      <td>0</td>\n",
       "      <td>0</td>\n",
       "      <td>0</td>\n",
       "      <td>0</td>\n",
       "      <td>0</td>\n",
       "      <td>0</td>\n",
       "      <td>0</td>\n",
       "      <td>1</td>\n",
       "      <td>0</td>\n",
       "    </tr>\n",
       "    <tr>\n",
       "      <td>1</td>\n",
       "      <td>6414100192</td>\n",
       "      <td>538000.0</td>\n",
       "      <td>3</td>\n",
       "      <td>2.25</td>\n",
       "      <td>2570</td>\n",
       "      <td>7242</td>\n",
       "      <td>2.0</td>\n",
       "      <td>0</td>\n",
       "      <td>0</td>\n",
       "      <td>3</td>\n",
       "      <td>...</td>\n",
       "      <td>0</td>\n",
       "      <td>0</td>\n",
       "      <td>0</td>\n",
       "      <td>0</td>\n",
       "      <td>0</td>\n",
       "      <td>1</td>\n",
       "      <td>0</td>\n",
       "      <td>0</td>\n",
       "      <td>0</td>\n",
       "      <td>0</td>\n",
       "    </tr>\n",
       "    <tr>\n",
       "      <td>2</td>\n",
       "      <td>5631500400</td>\n",
       "      <td>180000.0</td>\n",
       "      <td>2</td>\n",
       "      <td>1.00</td>\n",
       "      <td>770</td>\n",
       "      <td>10000</td>\n",
       "      <td>1.0</td>\n",
       "      <td>0</td>\n",
       "      <td>0</td>\n",
       "      <td>3</td>\n",
       "      <td>...</td>\n",
       "      <td>0</td>\n",
       "      <td>0</td>\n",
       "      <td>0</td>\n",
       "      <td>1</td>\n",
       "      <td>0</td>\n",
       "      <td>0</td>\n",
       "      <td>0</td>\n",
       "      <td>0</td>\n",
       "      <td>0</td>\n",
       "      <td>0</td>\n",
       "    </tr>\n",
       "    <tr>\n",
       "      <td>3</td>\n",
       "      <td>2487200875</td>\n",
       "      <td>604000.0</td>\n",
       "      <td>4</td>\n",
       "      <td>3.00</td>\n",
       "      <td>1960</td>\n",
       "      <td>5000</td>\n",
       "      <td>1.0</td>\n",
       "      <td>0</td>\n",
       "      <td>0</td>\n",
       "      <td>5</td>\n",
       "      <td>...</td>\n",
       "      <td>0</td>\n",
       "      <td>0</td>\n",
       "      <td>0</td>\n",
       "      <td>0</td>\n",
       "      <td>0</td>\n",
       "      <td>1</td>\n",
       "      <td>0</td>\n",
       "      <td>0</td>\n",
       "      <td>0</td>\n",
       "      <td>0</td>\n",
       "    </tr>\n",
       "    <tr>\n",
       "      <td>4</td>\n",
       "      <td>1954400510</td>\n",
       "      <td>510000.0</td>\n",
       "      <td>3</td>\n",
       "      <td>2.00</td>\n",
       "      <td>1680</td>\n",
       "      <td>8080</td>\n",
       "      <td>1.0</td>\n",
       "      <td>0</td>\n",
       "      <td>0</td>\n",
       "      <td>3</td>\n",
       "      <td>...</td>\n",
       "      <td>0</td>\n",
       "      <td>0</td>\n",
       "      <td>1</td>\n",
       "      <td>0</td>\n",
       "      <td>0</td>\n",
       "      <td>0</td>\n",
       "      <td>0</td>\n",
       "      <td>0</td>\n",
       "      <td>0</td>\n",
       "      <td>0</td>\n",
       "    </tr>\n",
       "  </tbody>\n",
       "</table>\n",
       "<p>5 rows × 39 columns</p>\n",
       "</div>"
      ],
      "text/plain": [
       "           id     price  bedrooms  bathrooms  sqft_living  sqft_lot  floors  \\\n",
       "0  7129300520  221900.0         3       1.00         1180      5650     1.0   \n",
       "1  6414100192  538000.0         3       2.25         2570      7242     2.0   \n",
       "2  5631500400  180000.0         2       1.00          770     10000     1.0   \n",
       "3  2487200875  604000.0         4       3.00         1960      5000     1.0   \n",
       "4  1954400510  510000.0         3       2.00         1680      8080     1.0   \n",
       "\n",
       "   waterfront  view  condition  ...  date_8_2014  date_9_2014  \\\n",
       "0           0     0          3  ...            0            0   \n",
       "1           0     0          3  ...            0            0   \n",
       "2           0     0          3  ...            0            0   \n",
       "3           0     0          5  ...            0            0   \n",
       "4           0     0          3  ...            0            0   \n",
       "\n",
       "   region_east_urban  region_north  region_north_and_seattle  region_seattle  \\\n",
       "0                  0             0                         0               0   \n",
       "1                  0             0                         0               1   \n",
       "2                  0             1                         0               0   \n",
       "3                  0             0                         0               1   \n",
       "4                  1             0                         0               0   \n",
       "\n",
       "   region_south_and_seattle  region_south_rural  region_south_urban  \\\n",
       "0                         0                   0                   1   \n",
       "1                         0                   0                   0   \n",
       "2                         0                   0                   0   \n",
       "3                         0                   0                   0   \n",
       "4                         0                   0                   0   \n",
       "\n",
       "   region_vashon_island  \n",
       "0                     0  \n",
       "1                     0  \n",
       "2                     0  \n",
       "3                     0  \n",
       "4                     0  \n",
       "\n",
       "[5 rows x 39 columns]"
      ]
     },
     "execution_count": 17,
     "metadata": {},
     "output_type": "execute_result"
    }
   ],
   "source": [
    "df_scrub.head()"
   ]
  },
  {
   "cell_type": "markdown",
   "metadata": {},
   "source": [
    "## Outliers"
   ]
  },
  {
   "cell_type": "code",
   "execution_count": 18,
   "metadata": {},
   "outputs": [],
   "source": [
    "num_cols = ['id', 'price', 'bedrooms', 'bathrooms', 'sqft_living', 'sqft_lot',\n",
    "           'floors', 'view', 'condition', 'grade', 'sqft_above', 'yr_built',\n",
    "           'lat', 'long', 'sqft_living15', 'sqft_lot15']\n",
    "df_ol = df_scrub[num_cols].copy()"
   ]
  },
  {
   "cell_type": "code",
   "execution_count": 19,
   "metadata": {},
   "outputs": [
    {
     "name": "stdout",
     "output_type": "stream",
     "text": [
      "id: 0 outliers\n",
      "price: 406 outliers\n",
      "bedrooms: 62 outliers\n",
      "bathrooms: 187 outliers\n",
      "sqft_living: 248 outliers\n",
      "sqft_lot: 346 outliers\n",
      "floors: 7 outliers\n",
      "view: 825 outliers\n",
      "condition: 29 outliers\n",
      "grade: 130 outliers\n",
      "sqft_above: 253 outliers\n",
      "yr_built: 0 outliers\n",
      "lat: 0 outliers\n",
      "long: 232 outliers\n",
      "sqft_living15: 236 outliers\n",
      "sqft_lot15: 363 outliers\n"
     ]
    }
   ],
   "source": [
    "columns = df_ol.columns\n",
    "\n",
    "for col in columns:\n",
    "    z = np.abs(stats.zscore(df_ol[col]))\n",
    "    num_ol = (z > 3).sum()\n",
    "    print(f'{col}: {num_ol} outliers')"
   ]
  },
  {
   "cell_type": "code",
   "execution_count": 20,
   "metadata": {},
   "outputs": [
    {
     "name": "stderr",
     "output_type": "stream",
     "text": [
      "C:\\Users\\katma\\anaconda3\\envs\\learn-env\\lib\\site-packages\\numpy\\lib\\histograms.py:391: RuntimeWarning: invalid value encountered in greater_equal\n",
      "  keep = (a >= first_edge)\n",
      "C:\\Users\\katma\\anaconda3\\envs\\learn-env\\lib\\site-packages\\numpy\\lib\\histograms.py:392: RuntimeWarning: invalid value encountered in less_equal\n",
      "  keep &= (a <= last_edge)\n",
      "C:\\Users\\katma\\anaconda3\\envs\\learn-env\\lib\\site-packages\\numpy\\lib\\histograms.py:824: RuntimeWarning: invalid value encountered in greater_equal\n",
      "  keep = (tmp_a >= first_edge)\n",
      "C:\\Users\\katma\\anaconda3\\envs\\learn-env\\lib\\site-packages\\numpy\\lib\\histograms.py:825: RuntimeWarning: invalid value encountered in less_equal\n",
      "  keep &= (tmp_a <= last_edge)\n"
     ]
    },
    {
     "data": {
      "image/png": "[encoded data removed]",
      "text/plain": [
       "<Figure size 864x864 with 16 Axes>"
      ]
     },
     "metadata": {
      "needs_background": "light"
     },
     "output_type": "display_data"
    }
   ],
   "source": [
    "fig, ax = plt.subplots(4,4,figsize=(12,12))\n",
    "for i, col in enumerate(df_ol.columns):\n",
    "    ax[i//4,i%4].hist(df[col], bins='auto')\n",
    "    ax[i//4,i%4].set_title(col)"
   ]
  },
  {
   "cell_type": "code",
   "execution_count": 28,
   "metadata": {},
   "outputs": [],
   "source": [
    "z = np.abs(stats.zscore(df_ol))\n",
    "df_olr = df_ol[(z <= 4).all(axis=1)]"
   ]
  },
  {
   "cell_type": "code",
   "execution_count": 29,
   "metadata": {},
   "outputs": [
    {
     "name": "stdout",
     "output_type": "stream",
     "text": [
      "df_scrub: (21597, 39)\n",
      "df_olr: (20651, 16)\n",
      "946 rows removed.\n",
      "4.38% data loss.\n"
     ]
    }
   ],
   "source": [
    "removed = df_scrub.shape[0] - df_olr.shape[0]\n",
    "print(f'df_scrub: {df_scrub.shape}')\n",
    "print(f'df_olr: {df_olr.shape}')\n",
    "print(f'{removed} rows removed.')\n",
    "print(f'{round((removed/df_scrub.shape[0])*100 , 2)}% data loss.')"
   ]
  },
  {
   "cell_type": "markdown",
   "metadata": {},
   "source": [
    "## Normalize"
   ]
  },
  {
   "cell_type": "code",
   "execution_count": 54,
   "metadata": {},
   "outputs": [],
   "source": [
    "df_norm = (df_olr - df_olr.mean()) / df_olr.std()"
   ]
  },
  {
   "cell_type": "code",
   "execution_count": 49,
   "metadata": {},
   "outputs": [],
   "source": [
    "df_norm['id'] = df_olr['id']"
   ]
  },
  {
   "cell_type": "code",
   "execution_count": 50,
   "metadata": {},
   "outputs": [
    {
     "data": {
      "text/html": [
       "<div>\n",
       "<style scoped>\n",
       "    .dataframe tbody tr th:only-of-type {\n",
       "        vertical-align: middle;\n",
       "    }\n",
       "\n",
       "    .dataframe tbody tr th {\n",
       "        vertical-align: top;\n",
       "    }\n",
       "\n",
       "    .dataframe thead th {\n",
       "        text-align: right;\n",
       "    }\n",
       "</style>\n",
       "<table border=\"1\" class=\"dataframe\">\n",
       "  <thead>\n",
       "    <tr style=\"text-align: right;\">\n",
       "      <th></th>\n",
       "      <th>id</th>\n",
       "      <th>price</th>\n",
       "      <th>bedrooms</th>\n",
       "      <th>bathrooms</th>\n",
       "      <th>sqft_living</th>\n",
       "      <th>sqft_lot</th>\n",
       "      <th>floors</th>\n",
       "      <th>view</th>\n",
       "      <th>condition</th>\n",
       "      <th>grade</th>\n",
       "      <th>sqft_above</th>\n",
       "      <th>yr_built</th>\n",
       "      <th>lat</th>\n",
       "      <th>long</th>\n",
       "      <th>sqft_living15</th>\n",
       "      <th>sqft_lot15</th>\n",
       "    </tr>\n",
       "  </thead>\n",
       "  <tbody>\n",
       "    <tr>\n",
       "      <td>0</td>\n",
       "      <td>7129300520</td>\n",
       "      <td>-1.051351</td>\n",
       "      <td>-0.401791</td>\n",
       "      <td>-1.488025</td>\n",
       "      <td>-1.028292</td>\n",
       "      <td>-0.357801</td>\n",
       "      <td>-0.901942</td>\n",
       "      <td>-0.277529</td>\n",
       "      <td>-0.631283</td>\n",
       "      <td>-0.541793</td>\n",
       "      <td>-0.741031</td>\n",
       "      <td>-0.537756</td>\n",
       "      <td>-0.356900</td>\n",
       "      <td>-0.291389</td>\n",
       "      <td>-0.945979</td>\n",
       "      <td>-0.372710</td>\n",
       "    </tr>\n",
       "    <tr>\n",
       "      <td>1</td>\n",
       "      <td>6414100192</td>\n",
       "      <td>0.114634</td>\n",
       "      <td>-0.401791</td>\n",
       "      <td>0.235797</td>\n",
       "      <td>0.683444</td>\n",
       "      <td>-0.244809</td>\n",
       "      <td>0.951761</td>\n",
       "      <td>-0.277529</td>\n",
       "      <td>-0.631283</td>\n",
       "      <td>-0.541793</td>\n",
       "      <td>0.575429</td>\n",
       "      <td>-0.673824</td>\n",
       "      <td>1.158636</td>\n",
       "      <td>-0.746817</td>\n",
       "      <td>-0.401594</td>\n",
       "      <td>-0.192067</td>\n",
       "    </tr>\n",
       "    <tr>\n",
       "      <td>2</td>\n",
       "      <td>5631500400</td>\n",
       "      <td>-1.205906</td>\n",
       "      <td>-1.543425</td>\n",
       "      <td>-1.488025</td>\n",
       "      <td>-1.533192</td>\n",
       "      <td>-0.049061</td>\n",
       "      <td>-0.901942</td>\n",
       "      <td>-0.277529</td>\n",
       "      <td>-0.631283</td>\n",
       "      <td>-1.452765</td>\n",
       "      <td>-1.286231</td>\n",
       "      <td>-1.286130</td>\n",
       "      <td>1.280717</td>\n",
       "      <td>-0.115094</td>\n",
       "      <td>1.200452</td>\n",
       "      <td>-0.153650</td>\n",
       "    </tr>\n",
       "    <tr>\n",
       "      <td>3</td>\n",
       "      <td>2487200875</td>\n",
       "      <td>0.358086</td>\n",
       "      <td>0.739842</td>\n",
       "      <td>1.270091</td>\n",
       "      <td>-0.067750</td>\n",
       "      <td>-0.403935</td>\n",
       "      <td>-0.901942</td>\n",
       "      <td>-0.277529</td>\n",
       "      <td>2.450660</td>\n",
       "      <td>-0.541793</td>\n",
       "      <td>-0.913899</td>\n",
       "      <td>-0.197586</td>\n",
       "      <td>-0.287553</td>\n",
       "      <td>-1.290392</td>\n",
       "      <td>-0.914871</td>\n",
       "      <td>-0.431743</td>\n",
       "    </tr>\n",
       "    <tr>\n",
       "      <td>4</td>\n",
       "      <td>1954400510</td>\n",
       "      <td>0.011352</td>\n",
       "      <td>-0.401791</td>\n",
       "      <td>-0.108967</td>\n",
       "      <td>-0.412560</td>\n",
       "      <td>-0.185332</td>\n",
       "      <td>-0.901942</td>\n",
       "      <td>-0.277529</td>\n",
       "      <td>-0.631283</td>\n",
       "      <td>0.369180</td>\n",
       "      <td>-0.076152</td>\n",
       "      <td>0.550789</td>\n",
       "      <td>0.405925</td>\n",
       "      <td>1.265881</td>\n",
       "      <td>-0.230502</td>\n",
       "      <td>-0.204419</td>\n",
       "    </tr>\n",
       "  </tbody>\n",
       "</table>\n",
       "</div>"
      ],
      "text/plain": [
       "           id     price  bedrooms  bathrooms  sqft_living  sqft_lot    floors  \\\n",
       "0  7129300520 -1.051351 -0.401791  -1.488025    -1.028292 -0.357801 -0.901942   \n",
       "1  6414100192  0.114634 -0.401791   0.235797     0.683444 -0.244809  0.951761   \n",
       "2  5631500400 -1.205906 -1.543425  -1.488025    -1.533192 -0.049061 -0.901942   \n",
       "3  2487200875  0.358086  0.739842   1.270091    -0.067750 -0.403935 -0.901942   \n",
       "4  1954400510  0.011352 -0.401791  -0.108967    -0.412560 -0.185332 -0.901942   \n",
       "\n",
       "       view  condition     grade  sqft_above  yr_built       lat      long  \\\n",
       "0 -0.277529  -0.631283 -0.541793   -0.741031 -0.537756 -0.356900 -0.291389   \n",
       "1 -0.277529  -0.631283 -0.541793    0.575429 -0.673824  1.158636 -0.746817   \n",
       "2 -0.277529  -0.631283 -1.452765   -1.286231 -1.286130  1.280717 -0.115094   \n",
       "3 -0.277529   2.450660 -0.541793   -0.913899 -0.197586 -0.287553 -1.290392   \n",
       "4 -0.277529  -0.631283  0.369180   -0.076152  0.550789  0.405925  1.265881   \n",
       "\n",
       "   sqft_living15  sqft_lot15  \n",
       "0      -0.945979   -0.372710  \n",
       "1      -0.401594   -0.192067  \n",
       "2       1.200452   -0.153650  \n",
       "3      -0.914871   -0.431743  \n",
       "4      -0.230502   -0.204419  "
      ]
     },
     "execution_count": 50,
     "metadata": {},
     "output_type": "execute_result"
    }
   ],
   "source": [
    "df_norm.head()"
   ]
  },
  {
   "cell_type": "code",
   "execution_count": 51,
   "metadata": {},
   "outputs": [
    {
     "data": {
      "text/html": [
       "<div>\n",
       "<style scoped>\n",
       "    .dataframe tbody tr th:only-of-type {\n",
       "        vertical-align: middle;\n",
       "    }\n",
       "\n",
       "    .dataframe tbody tr th {\n",
       "        vertical-align: top;\n",
       "    }\n",
       "\n",
       "    .dataframe thead th {\n",
       "        text-align: right;\n",
       "    }\n",
       "</style>\n",
       "<table border=\"1\" class=\"dataframe\">\n",
       "  <thead>\n",
       "    <tr style=\"text-align: right;\">\n",
       "      <th></th>\n",
       "      <th>id</th>\n",
       "      <th>price</th>\n",
       "      <th>bedrooms</th>\n",
       "      <th>bathrooms</th>\n",
       "      <th>sqft_living</th>\n",
       "      <th>sqft_lot</th>\n",
       "      <th>floors</th>\n",
       "      <th>view</th>\n",
       "      <th>condition</th>\n",
       "      <th>grade</th>\n",
       "      <th>sqft_above</th>\n",
       "      <th>yr_built</th>\n",
       "      <th>lat</th>\n",
       "      <th>long</th>\n",
       "      <th>sqft_living15</th>\n",
       "      <th>sqft_lot15</th>\n",
       "    </tr>\n",
       "  </thead>\n",
       "  <tbody>\n",
       "    <tr>\n",
       "      <td>count</td>\n",
       "      <td>2.065100e+04</td>\n",
       "      <td>2.065100e+04</td>\n",
       "      <td>2.065100e+04</td>\n",
       "      <td>2.065100e+04</td>\n",
       "      <td>2.065100e+04</td>\n",
       "      <td>2.065100e+04</td>\n",
       "      <td>2.065100e+04</td>\n",
       "      <td>2.065100e+04</td>\n",
       "      <td>2.065100e+04</td>\n",
       "      <td>2.065100e+04</td>\n",
       "      <td>2.065100e+04</td>\n",
       "      <td>2.065100e+04</td>\n",
       "      <td>2.065100e+04</td>\n",
       "      <td>2.065100e+04</td>\n",
       "      <td>2.065100e+04</td>\n",
       "      <td>2.065100e+04</td>\n",
       "    </tr>\n",
       "    <tr>\n",
       "      <td>mean</td>\n",
       "      <td>4.620646e+09</td>\n",
       "      <td>-7.156694e-17</td>\n",
       "      <td>-1.720359e-16</td>\n",
       "      <td>1.981854e-16</td>\n",
       "      <td>-6.055664e-17</td>\n",
       "      <td>-5.505149e-17</td>\n",
       "      <td>1.101030e-17</td>\n",
       "      <td>2.614946e-17</td>\n",
       "      <td>-3.853604e-17</td>\n",
       "      <td>-5.505149e-17</td>\n",
       "      <td>-1.156081e-16</td>\n",
       "      <td>1.651545e-15</td>\n",
       "      <td>-5.642830e-14</td>\n",
       "      <td>-3.890965e-12</td>\n",
       "      <td>-1.183607e-16</td>\n",
       "      <td>1.101030e-17</td>\n",
       "    </tr>\n",
       "    <tr>\n",
       "      <td>std</td>\n",
       "      <td>2.874331e+09</td>\n",
       "      <td>1.000000e+00</td>\n",
       "      <td>1.000000e+00</td>\n",
       "      <td>1.000000e+00</td>\n",
       "      <td>1.000000e+00</td>\n",
       "      <td>1.000000e+00</td>\n",
       "      <td>1.000000e+00</td>\n",
       "      <td>1.000000e+00</td>\n",
       "      <td>1.000000e+00</td>\n",
       "      <td>1.000000e+00</td>\n",
       "      <td>1.000000e+00</td>\n",
       "      <td>1.000000e+00</td>\n",
       "      <td>1.000000e+00</td>\n",
       "      <td>1.000000e+00</td>\n",
       "      <td>1.000000e+00</td>\n",
       "      <td>1.000000e+00</td>\n",
       "    </tr>\n",
       "    <tr>\n",
       "      <td>min</td>\n",
       "      <td>1.000102e+06</td>\n",
       "      <td>-1.582149e+00</td>\n",
       "      <td>-2.685058e+00</td>\n",
       "      <td>-2.177554e+00</td>\n",
       "      <td>-2.025778e+00</td>\n",
       "      <td>-7.219017e-01</td>\n",
       "      <td>-9.019421e-01</td>\n",
       "      <td>-2.775286e-01</td>\n",
       "      <td>-3.713225e+00</td>\n",
       "      <td>-4.185683e+00</td>\n",
       "      <td>-1.818134e+00</td>\n",
       "      <td>-2.408692e+00</td>\n",
       "      <td>-2.775402e+00</td>\n",
       "      <td>-2.164520e+00</td>\n",
       "      <td>-2.314717e+00</td>\n",
       "      <td>-8.267232e-01</td>\n",
       "    </tr>\n",
       "    <tr>\n",
       "      <td>25%</td>\n",
       "      <td>2.149800e+09</td>\n",
       "      <td>-6.968709e-01</td>\n",
       "      <td>-4.017913e-01</td>\n",
       "      <td>-7.984960e-01</td>\n",
       "      <td>-7.450550e-01</td>\n",
       "      <td>-4.039346e-01</td>\n",
       "      <td>-9.019421e-01</td>\n",
       "      <td>-2.775286e-01</td>\n",
       "      <td>-6.312825e-01</td>\n",
       "      <td>-5.417929e-01</td>\n",
       "      <td>-7.410307e-01</td>\n",
       "      <td>-6.738240e-01</td>\n",
       "      <td>-6.400703e-01</td>\n",
       "      <td>-8.202726e-01</td>\n",
       "      <td>-7.437788e-01</td>\n",
       "      <td>-4.285192e-01</td>\n",
       "    </tr>\n",
       "    <tr>\n",
       "      <td>50%</td>\n",
       "      <td>3.975400e+09</td>\n",
       "      <td>-2.357885e-01</td>\n",
       "      <td>-4.017913e-01</td>\n",
       "      <td>2.357975e-01</td>\n",
       "      <td>-1.662668e-01</td>\n",
       "      <td>-2.270655e-01</td>\n",
       "      <td>-9.019421e-01</td>\n",
       "      <td>-2.775286e-01</td>\n",
       "      <td>-6.312825e-01</td>\n",
       "      <td>-5.417929e-01</td>\n",
       "      <td>-2.623181e-01</td>\n",
       "      <td>1.085675e-01</td>\n",
       "      <td>8.157943e-02</td>\n",
       "      <td>-1.297852e-01</td>\n",
       "      <td>-1.993943e-01</td>\n",
       "      <td>-2.046911e-01</td>\n",
       "    </tr>\n",
       "    <tr>\n",
       "      <td>75%</td>\n",
       "      <td>7.338401e+09</td>\n",
       "      <td>4.352708e-01</td>\n",
       "      <td>7.398421e-01</td>\n",
       "      <td>5.805620e-01</td>\n",
       "      <td>5.849265e-01</td>\n",
       "      <td>-3.561100e-02</td>\n",
       "      <td>9.517607e-01</td>\n",
       "      <td>-2.775286e-01</td>\n",
       "      <td>9.096886e-01</td>\n",
       "      <td>3.691796e-01</td>\n",
       "      <td>5.488336e-01</td>\n",
       "      <td>8.569420e-01</td>\n",
       "      <td>8.545176e-01</td>\n",
       "      <td>6.415041e-01</td>\n",
       "      <td>5.627440e-01</td>\n",
       "      <td>3.288642e-03</td>\n",
       "    </tr>\n",
       "    <tr>\n",
       "      <td>max</td>\n",
       "      <td>9.900000e+09</td>\n",
       "      <td>5.507454e+00</td>\n",
       "      <td>4.164742e+00</td>\n",
       "      <td>4.028207e+00</td>\n",
       "      <td>4.587185e+00</td>\n",
       "      <td>1.185036e+01</td>\n",
       "      <td>3.732315e+00</td>\n",
       "      <td>4.789884e+00</td>\n",
       "      <td>2.450660e+00</td>\n",
       "      <td>4.013070e+00</td>\n",
       "      <td>4.405129e+00</td>\n",
       "      <td>1.503265e+00</td>\n",
       "      <td>1.567499e+00</td>\n",
       "      <td>3.976412e+00</td>\n",
       "      <td>4.280113e+00</td>\n",
       "      <td>1.011229e+01</td>\n",
       "    </tr>\n",
       "  </tbody>\n",
       "</table>\n",
       "</div>"
      ],
      "text/plain": [
       "                 id         price      bedrooms     bathrooms   sqft_living  \\\n",
       "count  2.065100e+04  2.065100e+04  2.065100e+04  2.065100e+04  2.065100e+04   \n",
       "mean   4.620646e+09 -7.156694e-17 -1.720359e-16  1.981854e-16 -6.055664e-17   \n",
       "std    2.874331e+09  1.000000e+00  1.000000e+00  1.000000e+00  1.000000e+00   \n",
       "min    1.000102e+06 -1.582149e+00 -2.685058e+00 -2.177554e+00 -2.025778e+00   \n",
       "25%    2.149800e+09 -6.968709e-01 -4.017913e-01 -7.984960e-01 -7.450550e-01   \n",
       "50%    3.975400e+09 -2.357885e-01 -4.017913e-01  2.357975e-01 -1.662668e-01   \n",
       "75%    7.338401e+09  4.352708e-01  7.398421e-01  5.805620e-01  5.849265e-01   \n",
       "max    9.900000e+09  5.507454e+00  4.164742e+00  4.028207e+00  4.587185e+00   \n",
       "\n",
       "           sqft_lot        floors          view     condition         grade  \\\n",
       "count  2.065100e+04  2.065100e+04  2.065100e+04  2.065100e+04  2.065100e+04   \n",
       "mean  -5.505149e-17  1.101030e-17  2.614946e-17 -3.853604e-17 -5.505149e-17   \n",
       "std    1.000000e+00  1.000000e+00  1.000000e+00  1.000000e+00  1.000000e+00   \n",
       "min   -7.219017e-01 -9.019421e-01 -2.775286e-01 -3.713225e+00 -4.185683e+00   \n",
       "25%   -4.039346e-01 -9.019421e-01 -2.775286e-01 -6.312825e-01 -5.417929e-01   \n",
       "50%   -2.270655e-01 -9.019421e-01 -2.775286e-01 -6.312825e-01 -5.417929e-01   \n",
       "75%   -3.561100e-02  9.517607e-01 -2.775286e-01  9.096886e-01  3.691796e-01   \n",
       "max    1.185036e+01  3.732315e+00  4.789884e+00  2.450660e+00  4.013070e+00   \n",
       "\n",
       "         sqft_above      yr_built           lat          long  sqft_living15  \\\n",
       "count  2.065100e+04  2.065100e+04  2.065100e+04  2.065100e+04   2.065100e+04   \n",
       "mean  -1.156081e-16  1.651545e-15 -5.642830e-14 -3.890965e-12  -1.183607e-16   \n",
       "std    1.000000e+00  1.000000e+00  1.000000e+00  1.000000e+00   1.000000e+00   \n",
       "min   -1.818134e+00 -2.408692e+00 -2.775402e+00 -2.164520e+00  -2.314717e+00   \n",
       "25%   -7.410307e-01 -6.738240e-01 -6.400703e-01 -8.202726e-01  -7.437788e-01   \n",
       "50%   -2.623181e-01  1.085675e-01  8.157943e-02 -1.297852e-01  -1.993943e-01   \n",
       "75%    5.488336e-01  8.569420e-01  8.545176e-01  6.415041e-01   5.627440e-01   \n",
       "max    4.405129e+00  1.503265e+00  1.567499e+00  3.976412e+00   4.280113e+00   \n",
       "\n",
       "         sqft_lot15  \n",
       "count  2.065100e+04  \n",
       "mean   1.101030e-17  \n",
       "std    1.000000e+00  \n",
       "min   -8.267232e-01  \n",
       "25%   -4.285192e-01  \n",
       "50%   -2.046911e-01  \n",
       "75%    3.288642e-03  \n",
       "max    1.011229e+01  "
      ]
     },
     "execution_count": 51,
     "metadata": {},
     "output_type": "execute_result"
    }
   ],
   "source": [
    "df_norm.describe()"
   ]
  },
  {
   "cell_type": "markdown",
   "metadata": {},
   "source": [
    "# Explore"
   ]
  },
  {
   "cell_type": "markdown",
   "metadata": {},
   "source": [
    "## price"
   ]
  },
  {
   "cell_type": "code",
   "execution_count": 53,
   "metadata": {},
   "outputs": [
    {
     "data": {
      "text/plain": [
       "<matplotlib.axes._subplots.AxesSubplot at 0x25c3293e240>"
      ]
     },
     "execution_count": 53,
     "metadata": {},
     "output_type": "execute_result"
    },
    {
     "data": {
      "image/png": "[encoded data removed]",
      "text/plain": [
       "<Figure size 432x288 with 1 Axes>"
      ]
     },
     "metadata": {
      "needs_background": "light"
     },
     "output_type": "display_data"
    }
   ],
   "source": [
    "sns.distplot(df_norm.price)"
   ]
  },
  {
   "cell_type": "markdown",
   "metadata": {},
   "source": [
    "## bedrooms"
   ]
  },
  {
   "cell_type": "markdown",
   "metadata": {},
   "source": [
    "## bathrooms"
   ]
  },
  {
   "cell_type": "markdown",
   "metadata": {},
   "source": [
    "## sqft_living"
   ]
  },
  {
   "cell_type": "markdown",
   "metadata": {},
   "source": [
    "## sqft_lot"
   ]
  },
  {
   "cell_type": "markdown",
   "metadata": {},
   "source": [
    "## floors"
   ]
  },
  {
   "cell_type": "markdown",
   "metadata": {},
   "source": [
    "## view"
   ]
  },
  {
   "cell_type": "markdown",
   "metadata": {},
   "source": [
    "## condition"
   ]
  },
  {
   "cell_type": "markdown",
   "metadata": {},
   "source": [
    "## grade"
   ]
  },
  {
   "cell_type": "markdown",
   "metadata": {},
   "source": []
  },
  {
   "cell_type": "markdown",
   "metadata": {},
   "source": [
    "# Model"
   ]
  },
  {
   "cell_type": "code",
   "execution_count": null,
   "metadata": {},
   "outputs": [],
   "source": []
  },
  {
   "cell_type": "markdown",
   "metadata": {},
   "source": [
    "# iNterpret"
   ]
  },
  {
   "cell_type": "code",
   "execution_count": null,
   "metadata": {},
   "outputs": [],
   "source": []
  },
  {
   "cell_type": "code",
   "execution_count": 3,
   "metadata": {},
   "outputs": [],
   "source": [
    "df = pd.read_pickle('non_norm_data.pkl')"
   ]
  },
  {
   "cell_type": "code",
   "execution_count": 6,
   "metadata": {},
   "outputs": [
    {
     "data": {
      "text/plain": [
       "<seaborn.axisgrid.JointGrid at 0x29b75659518>"
      ]
     },
     "execution_count": 6,
     "metadata": {},
     "output_type": "execute_result"
    },
    {
     "data": {
      "image/png": "[encoded data removed]",
      "text/plain": [
       "<Figure size 432x432 with 3 Axes>"
      ]
     },
     "metadata": {
      "needs_background": "light"
     },
     "output_type": "display_data"
    }
   ],
   "source": [
    "sns.jointplot('grade', 'price', df, kind='reg')"
   ]
  },
  {
   "cell_type": "code",
   "execution_count": 20,
   "metadata": {},
   "outputs": [
    {
     "data": {
      "image/png": "[encoded data removed]",
      "text/plain": [
       "<Figure size 576x576 with 1 Axes>"
      ]
     },
     "metadata": {
      "needs_background": "light"
     },
     "output_type": "display_data"
    }
   ],
   "source": [
    "plt.subplots(figsize=(8,8))\n",
    "sns.boxplot(df.waterfront, df.price)\n",
    "plt.title('Comparison of Prices by Waterfront')\n",
    "plt.xticks(fontsize=12)\n",
    "plt.yticks(fontsize=12)\n",
    "plt.tight_layout()\n",
    "plt.savefig('waterfront_price.png')"
   ]
  },
  {
   "cell_type": "code",
   "execution_count": 17,
   "metadata": {},
   "outputs": [],
   "source": [
    "def joint(col):\n",
    "    sns.jointplot(col, 'price', df, kind='reg')\n",
    "    plt.tight_layout()\n",
    "    plt.savefig(f'{col}_price')"
   ]
  },
  {
   "cell_type": "code",
   "execution_count": 18,
   "metadata": {},
   "outputs": [
    {
     "data": {
      "image/png": "[encoded data removed]",
      "text/plain": [
       "<Figure size 432x432 with 3 Axes>"
      ]
     },
     "metadata": {
      "needs_background": "light"
     },
     "output_type": "display_data"
    }
   ],
   "source": [
    "joint('sqft_living')"
   ]
  },
  {
   "cell_type": "code",
   "execution_count": 19,
   "metadata": {},
   "outputs": [
    {
     "data": {
      "image/png": "[encoded data removed]",
      "text/plain": [
       "<Figure size 432x432 with 3 Axes>"
      ]
     },
     "metadata": {
      "needs_background": "light"
     },
     "output_type": "display_data"
    }
   ],
   "source": [
    "joint('sqft_living15')"
   ]
  },
  {
   "cell_type": "code",
   "execution_count": 21,
   "metadata": {},
   "outputs": [
    {
     "data": {
      "image/png": "[encoded data removed]",
      "text/plain": [
       "<Figure size 432x432 with 3 Axes>"
      ]
     },
     "metadata": {
      "needs_background": "light"
     },
     "output_type": "display_data"
    }
   ],
   "source": [
    "joint('grade')"
   ]
  },
  {
   "cell_type": "code",
   "execution_count": null,
   "metadata": {},
   "outputs": [],
   "source": []
  }
 ],
 "metadata": {
  "kernelspec": {
   "display_name": "Python 3",
   "language": "python",
   "name": "python3"
  },
  "language_info": {
   "codemirror_mode": {
    "name": "ipython",
    "version": 3
   },
   "file_extension": ".py",
   "mimetype": "text/x-python",
   "name": "python",
   "nbconvert_exporter": "python",
   "pygments_lexer": "ipython3",
   "version": "3.6.9"
  },
  "toc": {
   "base_numbering": 1,
   "nav_menu": {},
   "number_sections": true,
   "sideBar": true,
   "skip_h1_title": false,
   "title_cell": "Table of Contents",
   "title_sidebar": "Contents",
   "toc_cell": false,
   "toc_position": {},
   "toc_section_display": true,
   "toc_window_display": true
  },
  "varInspector": {
   "cols": {
    "lenName": 16,
    "lenType": 16,
    "lenVar": 40
   },
   "kernels_config": {
    "python": {
     "delete_cmd_postfix": "",
     "delete_cmd_prefix": "del ",
     "library": "var_list.py",
     "varRefreshCmd": "print(var_dic_list())"
    },
    "r": {
     "delete_cmd_postfix": ") ",
     "delete_cmd_prefix": "rm(",
     "library": "var_list.r",
     "varRefreshCmd": "cat(var_dic_list()) "
    }
   },
   "position": {
    "height": "144.545px",
    "left": "854.364px",
    "right": "20px",
    "top": "7px",
    "width": "350px"
   },
   "types_to_exclude": [
    "module",
    "function",
    "builtin_function_or_method",
    "instance",
    "_Feature"
   ],
   "window_display": true
  }
 },
 "nbformat": 4,
 "nbformat_minor": 2
}
